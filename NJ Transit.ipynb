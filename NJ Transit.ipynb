{
 "cells": [
  {
   "cell_type": "markdown",
   "metadata": {},
   "source": [
    "## **NJ Transit Fall 2019**\n"
   ]
  },
  {
   "cell_type": "markdown",
   "metadata": {},
   "source": [
    "This notebook covers  performance data for the New Jersey transit September to November 2019."
   ]
  },
  {
   "cell_type": "code",
   "execution_count": 1,
   "metadata": {},
   "outputs": [],
   "source": [
    "import os\n",
    "import pandas as pd\n",
    "import numpy as np"
   ]
  },
  {
   "cell_type": "code",
   "execution_count": 2,
   "metadata": {},
   "outputs": [],
   "source": [
    "downloads_folder = os.path.expanduser('~/Downloads')\n",
    "\n",
    "file_path_1 = os.path.join(downloads_folder, '2019_09.csv')\n",
    "\n",
    "df_09 = pd.read_csv(file_path_1)"
   ]
  },
  {
   "cell_type": "code",
   "execution_count": 3,
   "metadata": {},
   "outputs": [],
   "source": [
    "file_path_2 =  os.path.join(downloads_folder, '2019_10.csv')\n",
    "df_10 = pd.read_csv(file_path_2)"
   ]
  },
  {
   "cell_type": "code",
   "execution_count": 4,
   "metadata": {},
   "outputs": [],
   "source": [
    "file_path_3 = os.path.join(downloads_folder, '2019_11.csv')\n",
    "df_11 = pd.read_csv(file_path_3)"
   ]
  },
  {
   "cell_type": "code",
   "execution_count": 5,
   "metadata": {},
   "outputs": [],
   "source": [
    "df = pd.concat([df_09, df_10, df_11], ignore_index=True)"
   ]
  },
  {
   "cell_type": "code",
   "execution_count": 6,
   "metadata": {},
   "outputs": [
    {
     "data": {
      "text/html": [
       "<div>\n",
       "<style scoped>\n",
       "    .dataframe tbody tr th:only-of-type {\n",
       "        vertical-align: middle;\n",
       "    }\n",
       "\n",
       "    .dataframe tbody tr th {\n",
       "        vertical-align: top;\n",
       "    }\n",
       "\n",
       "    .dataframe thead th {\n",
       "        text-align: right;\n",
       "    }\n",
       "</style>\n",
       "<table border=\"1\" class=\"dataframe\">\n",
       "  <thead>\n",
       "    <tr style=\"text-align: right;\">\n",
       "      <th></th>\n",
       "      <th>date</th>\n",
       "      <th>train_id</th>\n",
       "      <th>stop_sequence</th>\n",
       "      <th>from</th>\n",
       "      <th>from_id</th>\n",
       "      <th>to</th>\n",
       "      <th>to_id</th>\n",
       "      <th>scheduled_time</th>\n",
       "      <th>actual_time</th>\n",
       "      <th>delay_minutes</th>\n",
       "      <th>status</th>\n",
       "      <th>line</th>\n",
       "      <th>type</th>\n",
       "    </tr>\n",
       "  </thead>\n",
       "  <tbody>\n",
       "    <tr>\n",
       "      <th>0</th>\n",
       "      <td>2019-09-01</td>\n",
       "      <td>7824</td>\n",
       "      <td>1.0</td>\n",
       "      <td>Trenton</td>\n",
       "      <td>148.0</td>\n",
       "      <td>Trenton</td>\n",
       "      <td>148.0</td>\n",
       "      <td>2019-09-01 09:59:00</td>\n",
       "      <td>2019-09-01 10:00:10</td>\n",
       "      <td>1.166667</td>\n",
       "      <td>departed</td>\n",
       "      <td>Northeast Corrdr</td>\n",
       "      <td>NJ Transit</td>\n",
       "    </tr>\n",
       "    <tr>\n",
       "      <th>1</th>\n",
       "      <td>2019-09-01</td>\n",
       "      <td>7824</td>\n",
       "      <td>2.0</td>\n",
       "      <td>Trenton</td>\n",
       "      <td>148.0</td>\n",
       "      <td>Hamilton</td>\n",
       "      <td>32905.0</td>\n",
       "      <td>2019-09-01 10:05:00</td>\n",
       "      <td>2019-09-01 10:04:10</td>\n",
       "      <td>0.000000</td>\n",
       "      <td>departed</td>\n",
       "      <td>Northeast Corrdr</td>\n",
       "      <td>NJ Transit</td>\n",
       "    </tr>\n",
       "    <tr>\n",
       "      <th>2</th>\n",
       "      <td>2019-09-01</td>\n",
       "      <td>7824</td>\n",
       "      <td>3.0</td>\n",
       "      <td>Hamilton</td>\n",
       "      <td>32905.0</td>\n",
       "      <td>Princeton Junction</td>\n",
       "      <td>125.0</td>\n",
       "      <td>2019-09-01 10:12:00</td>\n",
       "      <td>2019-09-01 10:12:01</td>\n",
       "      <td>0.016667</td>\n",
       "      <td>departed</td>\n",
       "      <td>Northeast Corrdr</td>\n",
       "      <td>NJ Transit</td>\n",
       "    </tr>\n",
       "    <tr>\n",
       "      <th>3</th>\n",
       "      <td>2019-09-01</td>\n",
       "      <td>7824</td>\n",
       "      <td>4.0</td>\n",
       "      <td>Princeton Junction</td>\n",
       "      <td>125.0</td>\n",
       "      <td>New Brunswick</td>\n",
       "      <td>103.0</td>\n",
       "      <td>2019-09-01 10:29:00</td>\n",
       "      <td>2019-09-01 10:31:05</td>\n",
       "      <td>2.083333</td>\n",
       "      <td>departed</td>\n",
       "      <td>Northeast Corrdr</td>\n",
       "      <td>NJ Transit</td>\n",
       "    </tr>\n",
       "    <tr>\n",
       "      <th>4</th>\n",
       "      <td>2019-09-01</td>\n",
       "      <td>7824</td>\n",
       "      <td>5.0</td>\n",
       "      <td>New Brunswick</td>\n",
       "      <td>103.0</td>\n",
       "      <td>Edison</td>\n",
       "      <td>38.0</td>\n",
       "      <td>2019-09-01 10:34:00</td>\n",
       "      <td>2019-09-01 10:37:40</td>\n",
       "      <td>3.666667</td>\n",
       "      <td>departed</td>\n",
       "      <td>Northeast Corrdr</td>\n",
       "      <td>NJ Transit</td>\n",
       "    </tr>\n",
       "  </tbody>\n",
       "</table>\n",
       "</div>"
      ],
      "text/plain": [
       "         date train_id  stop_sequence                from  from_id  \\\n",
       "0  2019-09-01     7824            1.0             Trenton    148.0   \n",
       "1  2019-09-01     7824            2.0             Trenton    148.0   \n",
       "2  2019-09-01     7824            3.0            Hamilton  32905.0   \n",
       "3  2019-09-01     7824            4.0  Princeton Junction    125.0   \n",
       "4  2019-09-01     7824            5.0       New Brunswick    103.0   \n",
       "\n",
       "                   to    to_id       scheduled_time          actual_time  \\\n",
       "0             Trenton    148.0  2019-09-01 09:59:00  2019-09-01 10:00:10   \n",
       "1            Hamilton  32905.0  2019-09-01 10:05:00  2019-09-01 10:04:10   \n",
       "2  Princeton Junction    125.0  2019-09-01 10:12:00  2019-09-01 10:12:01   \n",
       "3       New Brunswick    103.0  2019-09-01 10:29:00  2019-09-01 10:31:05   \n",
       "4              Edison     38.0  2019-09-01 10:34:00  2019-09-01 10:37:40   \n",
       "\n",
       "   delay_minutes    status              line        type  \n",
       "0       1.166667  departed  Northeast Corrdr  NJ Transit  \n",
       "1       0.000000  departed  Northeast Corrdr  NJ Transit  \n",
       "2       0.016667  departed  Northeast Corrdr  NJ Transit  \n",
       "3       2.083333  departed  Northeast Corrdr  NJ Transit  \n",
       "4       3.666667  departed  Northeast Corrdr  NJ Transit  "
      ]
     },
     "execution_count": 6,
     "metadata": {},
     "output_type": "execute_result"
    }
   ],
   "source": [
    "df.head()"
   ]
  },
  {
   "cell_type": "code",
   "execution_count": 7,
   "metadata": {},
   "outputs": [
    {
     "name": "stdout",
     "output_type": "stream",
     "text": [
      "NJ Transit    690170\n",
      "Amtrak         38239\n",
      "Name: type, dtype: int64\n",
      "Northeast Corrdr             111626\n",
      "Morristown Line              109686\n",
      "No Jersey Coast              109338\n",
      "Main Line                     61796\n",
      "Montclair-Boonton             58821\n",
      "Raritan Valley                57509\n",
      "Bergen Co. Line               56960\n",
      "Gladstone Branch              55315\n",
      "Pascack Valley                44268\n",
      "Atl. City Line                18331\n",
      "Amtrak                        12090\n",
      "REGIONAL                      10667\n",
      "Princeton Shuttle              6412\n",
      "ACELA EXPRESS                  6257\n",
      "KEYSTONE                       5207\n",
      "PENNSYLVANIAN                   728\n",
      "CRESCENT                        685\n",
      "SILVER STAR  -R                 612\n",
      "SILVER METEOR-R                 605\n",
      "CAROLINIAN                      585\n",
      "AMTRAK                          376\n",
      "VERMONTER    -R                 252\n",
      "Meadowlands Rail                108\n",
      "AMTRAK REGIONAL                  76\n",
      "Palmetto                         36\n",
      "Regional                         34\n",
      "Acela Express                    15\n",
      "Silver Service / Palmetto        14\n",
      "Name: line, dtype: int64\n",
      "This shows\n"
     ]
    }
   ],
   "source": [
    "type_counts = df['type'].value_counts()\n",
    "print(type_counts)\n",
    "line_counts = df['line'].value_counts()\n",
    "print(line_counts)\n",
    "print('This shows')"
   ]
  },
  {
   "cell_type": "markdown",
   "metadata": {},
   "source": []
  },
  {
   "cell_type": "code",
   "execution_count": 8,
   "metadata": {},
   "outputs": [
    {
     "data": {
      "image/png": "[encoded data removed]",
      "text/plain": [
       "<Figure size 864x432 with 1 Axes>"
      ]
     },
     "metadata": {
      "needs_background": "light"
     },
     "output_type": "display_data"
    }
   ],
   "source": [
    "import matplotlib.pyplot as plt\n",
    "\n",
    "\n",
    "# Assuming df is your DataFrame with the data\n",
    "# Make sure the 'date' column is in datetime format\n",
    "df['date'] = pd.to_datetime(df['date'])\n",
    "\n",
    "# Sort the DataFrame by date\n",
    "df.sort_values(by='date', inplace=True)\n",
    "\n",
    "# Group by date and calculate the sum of delayed minutes for each day\n",
    "daily_delays = df.groupby('date')['delay_minutes'].sum().reset_index()\n",
    "\n",
    "# Create a new column to calculate the daily difference in delayed minutes\n",
    "#daily_delays['daily_difference'] = daily_delays['delay_minutes'].diff()\n",
    "\n",
    "# Plot the line chart\n",
    "plt.figure(figsize=(12, 6))\n",
    "plt.plot(daily_delays['date'], daily_delays['delay_minutes'], marker='o', linestyle='-')\n",
    "plt.xlabel('Date')\n",
    "plt.ylabel('Delayed Minutes per day')\n",
    "plt.title('Daily Change in Delayed Minutes Over Time')\n",
    "plt.grid(True)\n",
    "plt.show()"
   ]
  },
  {
   "cell_type": "code",
   "execution_count": 9,
   "metadata": {},
   "outputs": [
    {
     "name": "stdout",
     "output_type": "stream",
     "text": [
      "delay_minutes    32938.811172\n",
      "dtype: float64\n",
      "delay_minutes    32720.616667\n",
      "dtype: float64\n"
     ]
    },
    {
     "name": "stderr",
     "output_type": "stream",
     "text": [
      "<ipython-input-9-336222905991>:1: FutureWarning: DataFrame.mean and DataFrame.median with numeric_only=None will include datetime64 and datetime64tz columns in a future version.\n",
      "  print(daily_delays.mean())\n",
      "<ipython-input-9-336222905991>:2: FutureWarning: DataFrame.mean and DataFrame.median with numeric_only=None will include datetime64 and datetime64tz columns in a future version.\n",
      "  print(daily_delays.median())\n"
     ]
    }
   ],
   "source": [
    "print(daily_delays.mean())\n",
    "print(daily_delays.median())"
   ]
  },
  {
   "cell_type": "code",
   "execution_count": 10,
   "metadata": {},
   "outputs": [
    {
     "name": "stdout",
     "output_type": "stream",
     "text": [
      "         date  delay_minutes\n",
      "64 2019-11-04   59712.916667\n",
      "73 2019-11-13   56863.700000\n",
      "40 2019-10-11   46552.416667\n",
      "45 2019-10-16   45017.416667\n",
      "87 2019-11-27   44790.866667\n",
      "..        ...            ...\n",
      "84 2019-11-24   18302.316667\n",
      "70 2019-11-10   18146.966667\n",
      "77 2019-11-17   17891.700000\n",
      "1  2019-09-02   17872.616667\n",
      "0  2019-09-01   17763.950000\n",
      "\n",
      "[91 rows x 2 columns]\n"
     ]
    }
   ],
   "source": [
    "\n",
    "# Group by day and sum the delayed minutes\n",
    "#daily_delays = df.groupby(df['actual_time'].dt.date)['delay_minutes'].sum()\n",
    "\n",
    "# Sort in descending order to see the day with the most delayed minutes first\n",
    "df_sorted = daily_delays.sort_values(by=\"delay_minutes\", ascending=False)\n",
    "\n",
    "# Print the sorted data\n",
    "print(df_sorted)"
   ]
  },
  {
   "cell_type": "markdown",
   "metadata": {},
   "source": [
    "This observation underscores that November 4th stood out as the day with the highest number of delays during the fall season. This aligns with the fact that on November 4th, a Monday Night Football game took place at Metlife Stadium, resulting in a significant increase in ridership on NJ Transit and consequently more delays."
   ]
  },
  {
   "cell_type": "code",
   "execution_count": 11,
   "metadata": {},
   "outputs": [
    {
     "name": "stdout",
     "output_type": "stream",
     "text": [
      "             date train_id  stop_sequence         from  from_id           to  \\\n",
      "124926 2019-09-17     5422            6.0     Dunellen     36.0   Plainfield   \n",
      "124925 2019-09-17     5422            5.0  Bound Brook     21.0     Dunellen   \n",
      "124923 2019-09-17     5422            3.0   Somerville    138.0  Bridgewater   \n",
      "124924 2019-09-17     5422            4.0  Bridgewater     24.0  Bound Brook   \n",
      "124922 2019-09-17     5422            2.0      Raritan    129.0   Somerville   \n",
      "\n",
      "        to_id       scheduled_time          actual_time  delay_minutes  \\\n",
      "124926  120.0  2019-09-17 07:59:00  2019-09-17 12:58:00          299.0   \n",
      "124925   36.0  2019-09-17 07:54:00  2019-09-17 12:53:00          299.0   \n",
      "124923   24.0  2019-09-17 07:45:00  2019-09-17 12:44:00          299.0   \n",
      "124924   21.0  2019-09-17 07:48:00  2019-09-17 12:47:00          299.0   \n",
      "124922  138.0  2019-09-17 07:40:00  2019-09-17 12:39:00          299.0   \n",
      "\n",
      "           status            line        type  \n",
      "124926  estimated  Raritan Valley  NJ Transit  \n",
      "124925  estimated  Raritan Valley  NJ Transit  \n",
      "124923  estimated  Raritan Valley  NJ Transit  \n",
      "124924  estimated  Raritan Valley  NJ Transit  \n",
      "124922  estimated  Raritan Valley  NJ Transit  \n"
     ]
    }
   ],
   "source": [
    "#Now compare the delay longest delay overall\n",
    "longest_delay = df[df['delay_minutes'] == df['delay_minutes'].max()]\n",
    "print(longest_delay)"
   ]
  },
  {
   "cell_type": "markdown",
   "metadata": {},
   "source": [
    "A single delay in the dataset extended up to 5 hours in duration. Notably, on the morning of September 17th, there were five consecutive stops, all belonging to the Raritan Valley Line, that experienced this extended delay periodops that happened in the morning of September 17th and were all part of the Raritan Valley Line."
   ]
  },
  {
   "cell_type": "code",
   "execution_count": 12,
   "metadata": {},
   "outputs": [
    {
     "name": "stdout",
     "output_type": "stream",
     "text": [
      "The percentage of trips that were delayed (delay_minutes > 3 minutes) is: 44.536%\n"
     ]
    }
   ],
   "source": [
    "\n",
    "# Filter the DataFrame to include only rows where delay_minutes > 2\n",
    "filtered_df = df[df['delay_minutes'] > 3]\n",
    "\n",
    "# Calculate the percentage of rows where delay_minutes > 2\n",
    "percentage_greater_than_3 = (len(filtered_df) / len(df)) * 100\n",
    "\n",
    "print(f\"The percentage of trips that were delayed (delay_minutes > 3 minutes) is: {percentage_greater_than_3:.3f}%\")"
   ]
  },
  {
   "cell_type": "code",
   "execution_count": 13,
   "metadata": {},
   "outputs": [
    {
     "data": {
      "image/png": "[encoded data removed]",
      "text/plain": [
       "<Figure size 432x288 with 1 Axes>"
      ]
     },
     "metadata": {
      "needs_background": "light"
     },
     "output_type": "display_data"
    }
   ],
   "source": [
    "# Create a histogram\n",
    "df['date'] = pd.to_datetime(df['date'])\n",
    "daily_delay = df.groupby('date')['delay_minutes'].sum().reset_index()\n",
    "# Then, group the DataFrame by 'date' and calculate the sum of 'delay_minutes'\n",
    "daily_delay = df.groupby('date')['delay_minutes'].sum().reset_index()\n",
    "delayed_minutes = daily_delay['delay_minutes']\n",
    "plt.hist(delayed_minutes, bins=20, edgecolor='k', alpha=0.7)\n",
    "plt.xlabel('Delay Minutes')\n",
    "plt.ylabel('Frequency')\n",
    "plt.title('Distribution of Delay Minutes')\n",
    "plt.grid(True)\n",
    "\n",
    "# Show the plot\n",
    "plt.show()"
   ]
  },
  {
   "cell_type": "markdown",
   "metadata": {},
   "source": [
    "This chart shows that unsurpisingly the vast majority of trips were"
   ]
  },
  {
   "cell_type": "code",
   "execution_count": 14,
   "metadata": {},
   "outputs": [
    {
     "name": "stdout",
     "output_type": "stream",
     "text": [
      "ACELA EXPRESS                 0.000000\n",
      "AMTRAK                        0.000000\n",
      "AMTRAK REGIONAL               0.000000\n",
      "Acela Express                 0.000000\n",
      "Amtrak                        0.000000\n",
      "Atl. City Line               15.370973\n",
      "Bergen Co. Line               4.067406\n",
      "CAROLINIAN                    0.000000\n",
      "CRESCENT                      0.000000\n",
      "Gladstone Branch              3.950024\n",
      "KEYSTONE                      0.000000\n",
      "Main Line                     4.026956\n",
      "Meadowlands Rail              0.000000\n",
      "Montclair-Boonton             4.434502\n",
      "Morristown Line               4.764942\n",
      "No Jersey Coast               4.203681\n",
      "Northeast Corrdr              3.809969\n",
      "PENNSYLVANIAN                 0.000000\n",
      "Palmetto                      0.000000\n",
      "Pascack Valley                3.625073\n",
      "Princeton Shuttle             0.380989\n",
      "REGIONAL                      0.000000\n",
      "Raritan Valley                3.222472\n",
      "Regional                      0.000000\n",
      "SILVER METEOR-R               0.000000\n",
      "SILVER STAR  -R               0.000000\n",
      "Silver Service / Palmetto     0.000000\n",
      "VERMONTER    -R               0.000000\n",
      "dtype: float64\n"
     ]
    }
   ],
   "source": [
    "line_delay_totals = df.groupby('line')['delay_minutes'].sum()\n",
    "line_delay_totals_sorted = line_delay_totals.sort_values(ascending=False)\n",
    "#print(line_delay_totals_sorted)\n",
    "line_counts = df['line'].value_counts()\n",
    "line_delays = line_delay_totals/line_counts\n",
    "print(line_delays)"
   ]
  },
  {
   "cell_type": "markdown",
   "metadata": {},
   "source": [
    "This illustrates that there weren't any lines that were more delayed than the rest."
   ]
  },
  {
   "cell_type": "code",
   "execution_count": 15,
   "metadata": {},
   "outputs": [
    {
     "data": {
      "image/png": "[encoded data removed]",
      "text/plain": [
       "<Figure size 864x432 with 1 Axes>"
      ]
     },
     "metadata": {
      "needs_background": "light"
     },
     "output_type": "display_data"
    }
   ],
   "source": [
    "df['actual_time'] = pd.to_datetime(df['actual_time'])\n",
    "df['hour_of_day'] = df['actual_time'].dt.hour\n",
    "hourly_delay_totals = df.groupby('hour_of_day')['delay_minutes'].sum()\n",
    "\n",
    "hourly_delay_totals.plot(kind='bar', figsize=(12, 6))\n",
    "plt.title('Delayed Minutes by Hour of Day')\n",
    "plt.xlabel('Hour of Day')\n",
    "plt.ylabel('Total Delayed Minutes')\n",
    "plt.show()"
   ]
  },
  {
   "cell_type": "markdown",
   "metadata": {},
   "source": [
    "This charts shows that delays peaked during hour between 5:00 and 8:00 PM"
   ]
  },
  {
   "cell_type": "code",
   "execution_count": 16,
   "metadata": {},
   "outputs": [
    {
     "name": "stdout",
     "output_type": "stream",
     "text": [
      "The route with the highest delayed minutes is from Newark Penn Station to Secaucus Upper Lvl with 45155.15000000013 minutes of delay.\n"
     ]
    }
   ],
   "source": [
    "# Group the data by \"from\" and \"to\" columns and calculate the sum of delayed minutes\n",
    "delayed_minutes_by_route = df.groupby(['from', 'to'])['delay_minutes'].sum()\n",
    "\n",
    "# Find the combination with the highest total delayed minutes\n",
    "max_delayed_route = delayed_minutes_by_route.idxmax()\n",
    "max_delayed_minutes = delayed_minutes_by_route.max()\n",
    "\n",
    "print(f\"The route with the highest delayed minutes is from {max_delayed_route[0]} to {max_delayed_route[1]} with {max_delayed_minutes} minutes of delay.\")\n"
   ]
  },
  {
   "cell_type": "code",
   "execution_count": 17,
   "metadata": {},
   "outputs": [
    {
     "name": "stdout",
     "output_type": "stream",
     "text": [
      "from                   to                   \n",
      "Newark Penn Station    Secaucus Upper Lvl       45155.150000\n",
      "New York Penn Station  Secaucus Upper Lvl       38733.750000\n",
      "Secaucus Upper Lvl     New York Penn Station    35756.000000\n",
      "Newark Penn Station    Newark Airport           30197.650000\n",
      "Secaucus Upper Lvl     Newark Penn Station      29408.266667\n",
      "                                                    ...     \n",
      "Maplewood              Short Hills                  0.000000\n",
      "                       Highland Avenue              0.000000\n",
      "Pennsauken             Hammonton                    0.000000\n",
      "                       Lindenwold                   0.000000\n",
      "Highland Avenue        Millburn                     0.000000\n",
      "Name: delay_minutes, Length: 606, dtype: float64\n"
     ]
    }
   ],
   "source": [
    "# Sort the delayed_minutes_by_route Series in descending order\n",
    "delayed_minutes_by_route_sorted = delayed_minutes_by_route.sort_values(ascending=False)\n",
    "\n",
    "# Display the sorted data\n",
    "print(delayed_minutes_by_route_sorted)\n"
   ]
  },
  {
   "cell_type": "code",
   "execution_count": 18,
   "metadata": {},
   "outputs": [
    {
     "name": "stdout",
     "output_type": "stream",
     "text": [
      "Requirement already satisfied: networkx in ./opt/anaconda3/lib/python3.8/site-packages (2.5)\n",
      "Requirement already satisfied: decorator>=4.3.0 in ./opt/anaconda3/lib/python3.8/site-packages (from networkx) (4.4.2)\n",
      "Note: you may need to restart the kernel to use updated packages.\n"
     ]
    }
   ],
   "source": [
    "pip install networkx\n"
   ]
  },
  {
   "cell_type": "code",
   "execution_count": 19,
   "metadata": {},
   "outputs": [
    {
     "data": {
      "image/png": "[encoded data removed]",
      "text/plain": [
       "<Figure size 720x576 with 2 Axes>"
      ]
     },
     "metadata": {
      "needs_background": "light"
     },
     "output_type": "display_data"
    }
   ],
   "source": [
    "# Create a pivot table to summarize delay by line\n",
    "import seaborn as sns\n",
    "heatmap_data = df.pivot_table(index='line', values='delay_minutes', aggfunc='mean')\n",
    "\n",
    "# Create the heatmap using seaborn\n",
    "plt.figure(figsize=(10, 8))\n",
    "sns.heatmap(heatmap_data, annot=True, fmt='.1f', cmap='YlOrRd')\n",
    "plt.title('Transit Line vs. Delayed Minutes Heatmap')\n",
    "plt.xlabel('Transit Line')\n",
    "plt.ylabel('Mean Delayed Minutes')\n",
    "plt.show()"
   ]
  },
  {
   "cell_type": "markdown",
   "metadata": {},
   "source": [
    "This heat map illustrates some consistentcy that the average is delay across every is around 4 minutes. The exceptions are ATL City Line which had by far the longest delays averaging out to 16 minutes, and the Princeton Shuttle which averages out to only only 20 senconds"
   ]
  },
  {
   "cell_type": "code",
   "execution_count": 20,
   "metadata": {},
   "outputs": [
    {
     "name": "stdout",
     "output_type": "stream",
     "text": [
      "The notebook is located at: /Users/zacktobin/NJ Transit.ipynb\n"
     ]
    }
   ],
   "source": [
    "# Get the current working directory\n",
    "current_directory = os.getcwd()\n",
    "\n",
    "# Get the name of the Jupyter Notebook\n",
    "notebook_name = \"NJ Transit.ipynb\"  # Replace with your notebook's name\n",
    "\n",
    "# Create the full path to the notebook\n",
    "notebook_path = os.path.join(current_directory, notebook_name)\n",
    "\n",
    "# Print the notebook's full path\n",
    "print(\"The notebook is located at:\", notebook_path)\n"
   ]
  },
  {
   "cell_type": "code",
   "execution_count": null,
   "metadata": {},
   "outputs": [],
   "source": []
  }
 ],
 "metadata": {
  "kernelspec": {
   "display_name": "Python 3",
   "language": "python",
   "name": "python3"
  },
  "language_info": {
   "codemirror_mode": {
    "name": "ipython",
    "version": 3
   },
   "file_extension": ".py",
   "mimetype": "text/x-python",
   "name": "python",
   "nbconvert_exporter": "python",
   "pygments_lexer": "ipython3",
   "version": "3.8.5"
  }
 },
 "nbformat": 4,
 "nbformat_minor": 4
}
